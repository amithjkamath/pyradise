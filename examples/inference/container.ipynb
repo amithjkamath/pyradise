{
 "cells": [
  {
   "cell_type": "markdown",
   "source": [
    "<div class=\"alert alert-warning\">\n",
    "\n",
    "Warning:\n",
    "\n",
    "This tutorial is currently under construction!\n",
    "\n",
    "</div>"
   ],
   "metadata": {
    "collapsed": false
   }
  },
  {
   "cell_type": "markdown",
   "source": [
    "# Tutorial: Container-based Inference Pipeline\n",
    "\n",
    "The deployment of the auto-segmentation solution demonstrated in the [\"DL-Model Inference Pipeline\"](examples.inference.basic.ipynb) example is shown in this tutorial. Typically, the deployment of auto-segmentation solutions is a challenging task due to various reasons such as that the physician's PC does not have a [GPU](https://en.wikipedia.org/wiki/Graphics_processing_unit), Python can not be installed onto the target machine because access is restricted, no access to the machines in clinics for installation, and many more. In order to circumvent those challenges, the usage of [Docker](https://www.docker.com/) containers is a nice solution. The advantage of using Docker is manifold and include that the Docker image can be build by the developer without requiring access to the target machine, and that versioning of the Docker images is a built-in feature that comes at no costs. For more details on Docker we refer to the [official Docker documentation](https://docs.docker.com/).\n",
    "\n",
    "This tutorial is not executable but explains how to build an auto-segmentation Docker image from a PyRaDiSe-based auto-segmentation solution. The aim of this tutorial is to facilitate dockerization of auto-segmentation algorithms such that these can be distributed easily.\n",
    "\n",
    "## Workflow Overview\n",
    "The following workflow provides an overview over the coarse steps that need to be taken to develop a Docker-based auto-segmentation solution:\n",
    "\n",
    "1. [Develop Standalone Auto-segmentation Solution](#Develop-Standalone-Auto-segmentation-Solution)\n",
    "2. [Install Docker with GPU Support](#Install-Docker-with-GPU-Support)\n",
    "3. [Implement Communication API](#Implement-Communication-API)\n",
    "4. [Dockerize the Project](#Dockerize-the-Project)\n",
    "5. [Test Image Locally](#Test-Image-Locally)\n",
    "6. [Store Image in Registry](#Store-Image-in-Registry)\n",
    "7. [Automate Deployment Pipeline](#Automate-Deployment-Pipeline)\n",
    "8. [Deploy to Target Machine](#Deploy-to-Target-Machine)\n",
    "\n",
    "\n",
    "## Steps\n",
    "The following chapters explain each step to take towards a dockerized auto-segmentation solution.\n",
    "\n",
    "### Develop Standalone Auto-segmentation Solution\n",
    "In general, one should start the development on a local machine without considering Docker too much.\n",
    "The goal of this first step should be to have a robust auto-segmentation solution that implements all required functionality.\n",
    "Furthermore, the project should have a proper structure what will make dockerization straightforward later.\n",
    "\n",
    "\n",
    "\n",
    "\n",
    "In general, one should start developing an auto-segmentation solution standalone because the failure-free functionality should have the first priority.\n",
    "During standalone development, one should focus on having a proper project structure with\n",
    "\n",
    "- proper python structure\n",
    "- requirements file\n",
    "- use virtual environments\n",
    "\n",
    "### Install Docker with GPU Support\n",
    "- check for each OS\n",
    "- regard licensing of Docker desktop\n",
    "- how to enable gpu support\n",
    "\n",
    "### Implement Communication API\n",
    "- select a strategy, maybe given\n",
    "- implement and test (using e.g. postman)\n",
    "- connect the communication with the inferer\n",
    "\n",
    "### Dockerize the Project\n",
    "- provide resources\n",
    "- how to write a dockerfile\n",
    "- images to take with python installation\n",
    "- vulnerability scanning\n",
    "\n",
    "### Test Image Locally\n",
    "- test the image\n",
    "- use different data\n",
    "- try to produce errors\n",
    "\n",
    "### Store Image in Registry\n",
    "- what are registries\n",
    "- how to use them\n",
    "- resources\n",
    "\n",
    "### Automate Deployment Pipeline\n",
    "- what tools to use\n",
    "- how to achieve\n",
    "\n",
    "### Deploy to Target Machine\n",
    "- asdasd"
   ],
   "metadata": {
    "collapsed": false
   }
  }
 ],
 "metadata": {
  "kernelspec": {
   "display_name": "Python 3",
   "language": "python",
   "name": "python3"
  },
  "language_info": {
   "codemirror_mode": {
    "name": "ipython",
    "version": 2
   },
   "file_extension": ".py",
   "mimetype": "text/x-python",
   "name": "python",
   "nbconvert_exporter": "python",
   "pygments_lexer": "ipython2",
   "version": "2.7.6"
  }
 },
 "nbformat": 4,
 "nbformat_minor": 0
}
