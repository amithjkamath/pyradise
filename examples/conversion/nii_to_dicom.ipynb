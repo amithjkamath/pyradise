{
 "cells": [
  {
   "cell_type": "markdown",
   "source": [
    "# NIfTI to DICOM-RTSS Conversion\n",
    "\n",
    "In this example, we demonstrate the conversion from NIfTI to DICOM-RTSS using the example data provided (details see [Examples](examples.rst)). Because DICOM-RTSS files include references to the corresponding DICOM image series, these must be loaded in addition to the NIfTI files for conversion. However, PyRaDiSe provides all necessary functionality and automates many of the tasks, such that minimal effort is required.\n",
    "\n",
    "Before getting started we want to emphasize that PyRaDiSe include a 2D-based and a 3D-based algorithm for DICOM-RTSS reconstruction. Both algorithms can reconstruct 3D DICOM-RTSS but follow either a 2D or a 3D approach what have different advantages. In experiments, we could demonstrate that the 2D algorithm is more robust and faster compared to its 3D counterpart. However, the resulting DICOM-RTSS often contains structures that contain step-like details. This behavior is predominantly observed when the algorithm is inappropriately parameterized or the data is viewed in on a plane different from the DICOM image slices used for reconstruction. For the 3D approach we observed in general a more natural appearance but a longer computation time and larger memory footprint. Thus, the choice of the conversion algorithm is task dependent.\n",
    "\n",
    "We also want to emphasize that the example data contains skull segmentations that are delineated outside the image extent. Because a conversion from DICOM-RTSS to NIfTI is only possible within the extent of the image parts of the nose were removed during example preparation. However, this let us demonstrate the performance of the converters that do not fail if foreground segmentations touch the borders of the image volume.\n"
   ],
   "metadata": {
    "collapsed": false
   }
  },
  {
   "cell_type": "markdown",
   "source": [
    "## Import Procedure\n",
    "First of all, the dependencies for this example are imported."
   ],
   "metadata": {
    "collapsed": false
   }
  },
  {
   "cell_type": "markdown",
   "source": [],
   "metadata": {
    "collapsed": false
   }
  },
  {
   "cell_type": "code",
   "execution_count": 1,
   "outputs": [],
   "source": [
    "import os\n",
    "from typing import Optional\n",
    "\n",
    "import pyradise.data as ps_data\n",
    "import pyradise.fileio as ps_io"
   ],
   "metadata": {
    "collapsed": false
   }
  },
  {
   "cell_type": "markdown",
   "source": [
    "## Extractor Implementation\n",
    "Because the naming of NIfTI files is flexible and the files do not incorporate content-related metadata, PyRaDiSe requires the user to implement `Extractors` to retrieve information about the `Modality` of the `IntensityImages` or, in the case of `SegmentationImages` about the `Organ` depicted and the `Rater` who created the segmentations. The approach of using user-implemented `Extractors` allows for maximum flexibility because the necessary content-related information can be either retrieved from the file path of the corresponding file or by accessing a third-party information source such as a database or a CSV file.\n",
    "\n",
    "For implementation, one must inherit from the provided `Extractor` base classes that provide implemented examples and explanations. In general, each `Extractor` gets the file path of each NIfTI file that is found by the crawler. Based on the path, the user must implement the `extract` method such that the method returns the requested information or `None` if the image type does not fit the `Extractor`.\n",
    "\n",
    "The `ModalityExtractor`, in contrast to the other `Extractor` types, possesses two `extract` methods, which are used separately for DICOM data and for discrete medical images (e.g., NIfTI). If the user exclusively works which DICOM or discrete image data, the other `extract` method may skip from implementation by returning None. However, both `extract` methods are required in this example because DICOM data and discrete image data must be processed."
   ],
   "metadata": {
    "collapsed": false
   }
  },
  {
   "cell_type": "code",
   "execution_count": 2,
   "outputs": [],
   "source": [
    "class ExampleModalityExtractor(ps_io.ModalityExtractor):\n",
    "\n",
    "    def extract_from_dicom(self,\n",
    "                           path: str\n",
    "                           ) -> Optional[ps_data.Modality]:\n",
    "        # Extract the necessary attributes from the DICOM file\n",
    "        tags = (ps_io.Tag((0x0008, 0x0060)),  # Modality\n",
    "                ps_io.Tag((0x0008, 0x103e)))  # Series Description\n",
    "        dataset_dict = self._load_dicom_attributes(tags, path)\n",
    "\n",
    "        # Identify the modality rule-based\n",
    "        modality = dataset_dict.get('Modality', {}).get('value', None)\n",
    "        series_desc = dataset_dict.get('Series Description', {}).get('value', '')\n",
    "        if modality == 'MR':\n",
    "            if 't1' in series_desc.lower():\n",
    "                return ps_data.Modality('T1')\n",
    "            elif 't2' in series_desc.lower():\n",
    "                return ps_data.Modality('T2')\n",
    "            else:\n",
    "                return None\n",
    "        else:\n",
    "            return None\n",
    "\n",
    "    def extract_from_path(self,\n",
    "                          path: str\n",
    "                          ) -> Optional[ps_data.Modality]:\n",
    "        # Identify the discrete image file's modality rule-based\n",
    "        filename = os.path.basename(path)\n",
    "\n",
    "        # Check if the image contains an img prefix\n",
    "        # (i.e., it is a intensity image)\n",
    "        if not filename.startswith('img'):\n",
    "            return None\n",
    "\n",
    "        # Check if the image contains a modality search string\n",
    "        if 'T1' in filename:\n",
    "            return ps_data.Modality('T1')\n",
    "        elif 'T2' in filename:\n",
    "            return ps_data.Modality('T2')\n",
    "        else:\n",
    "            return None\n",
    "\n",
    "\n",
    "class ExampleOrganExtractor(ps_io.OrganExtractor):\n",
    "\n",
    "    def extract(self,\n",
    "                path: str\n",
    "                ) -> Optional[ps_data.Organ]:\n",
    "        # Identify the discrete image file's organ rule-based\n",
    "        filename = os.path.basename(path)\n",
    "\n",
    "        # Check if the image contains a seg prefix\n",
    "        # (i.e., it is a segmentation)\n",
    "        if not filename.startswith('seg'):\n",
    "            return None\n",
    "\n",
    "        # Split the filename for extracting the organ name\n",
    "        organ_name = filename.split('_')[-1].split('.')[0]\n",
    "        return ps_data.Organ(organ_name)\n",
    "\n",
    "\n",
    "class ExampleRaterExtractor(ps_io.RaterExtractor):\n",
    "\n",
    "    def extract(self,\n",
    "                path: str\n",
    "                ) -> Optional[ps_data.Rater]:\n",
    "        # Identify the discrete image file's rater rule-based\n",
    "        filename = os.path.basename(path)\n",
    "\n",
    "        # Check if the image contains a seg prefix\n",
    "        # (i.e., it is a segmentation)\n",
    "        if not filename.startswith('seg'):\n",
    "            return None\n",
    "\n",
    "        # Split the filename for extracting the rater name\n",
    "        rater_name = filename.split('_')[2]\n",
    "        return ps_data.Rater(rater_name)"
   ],
   "metadata": {
    "collapsed": false
   }
  },
  {
   "cell_type": "markdown",
   "source": [
    "## Conversion Procedure Construction\n",
    "In the following code block, a reference `Modality` is defined that identifies the DICOM image series that is used as a reference in the DICOM-RTSS. This is followed by the component instantiation for the crawling, selecting, loading, and writing procedures. Afterwards, a loop loads the NIfTI data based on the `SeriesInfo` entries of each subject. Within the same loop the corresponding DICOM image series are crawled and loaded such that all data for conversion is in memory. At this stage we demonstrate also the functionality of the `RTSSMetaData` class that is used to specify certain DICOM attributes in the DICOM-RTSS. However, the conversion can also be executed without a `RTSSMetaData` because it then copies the necessary DICOM attributes from the DICOM image series. The same behavior applies for the unspecified `RTSSMetaData` attributes.\n",
    "\n",
    "After preparing the data for conversion, the specific conversion procedure can be selected by the type of `RTSSConverterConfiguration` provided to the `SubjectToRTSSConverter`. When the conversion has finished, the data can be written to disk by the previously instantiated `DicomSeriesSubjectWriter`. In addition to writing just the DICOM-RTSS, the `DicomSeriesSubjectWriter` will also copy the DICOM image series based on the provided `SeriesInfo` entries. This feature is helpful in the radiotherapy context because the used DICOM image data should not be altered what can be guaranteed by copying the data from the source directory. Furthermore, the DICOM-RTSS requires the referenced DICOM image series to be available for loading the structures."
   ],
   "metadata": {
    "collapsed": false
   }
  },
  {
   "cell_type": "code",
   "execution_count": 3,
   "outputs": [],
   "source": [
    "def convert_subject_to_dicom_rtss(input_dir_path: str,\n",
    "                                  output_dir_path: str,\n",
    "                                  dicom_image_dir_path: str,\n",
    "                                  use_3d_conversion: bool = True\n",
    "                                  ) -> None:\n",
    "    # Specify a reference modalities\n",
    "    # This is the modality of the DICOM image series that will be\n",
    "    # referenced in the DICOM-RTSS.\n",
    "    reference_modality = 'T1'\n",
    "\n",
    "    # Create the loader\n",
    "    loader = ps_io.SubjectLoader()\n",
    "\n",
    "    # Create the writer and specify the output file name of the\n",
    "    # DICOM-RTSS files\n",
    "    writer = ps_io.DicomSeriesSubjectWriter()\n",
    "    rtss_filename = 'rtss.dcm'\n",
    "\n",
    "    # (optional)\n",
    "    # Instantiate a new selection to exclude the original DICOM-RTSS SeriesInfo\n",
    "    # Note: If this is omitted the original DICOM-RTSS will be copied to the\n",
    "    # corresponding output directory.\n",
    "    selection = ps_io.NoRTSSInfoSelector()\n",
    "\n",
    "    # Create the file crawler for the discrete image files and\n",
    "    # loop through the subjects\n",
    "    crawler = ps_io.DatasetFileCrawler(input_dir_path,\n",
    "                                       extension='.nii.gz',\n",
    "                                       modality_extractor=ExampleModalityExtractor(),\n",
    "                                       organ_extractor=ExampleOrganExtractor(),\n",
    "                                       rater_extractor=ExampleRaterExtractor())\n",
    "    for series_info in crawler:\n",
    "        # Load the subject\n",
    "        subject = loader.load(series_info)\n",
    "\n",
    "        # Print the progress\n",
    "        print(f'Converting subject {subject.get_name()}...')\n",
    "\n",
    "        # Construct the path to the subject's DICOM images\n",
    "        dicom_subject_path = os.path.join(dicom_image_dir_path, subject.get_name())\n",
    "\n",
    "        # Construct a DICOM crawler to retrieve the reference\n",
    "        # DICOM image series info\n",
    "        dcm_crawler = ps_io.SubjectDicomCrawler(dicom_subject_path,\n",
    "                                                modality_extractor=ExampleModalityExtractor())\n",
    "        dicom_series_info = dcm_crawler.execute()\n",
    "\n",
    "        # (optional)\n",
    "        # Keep all SeriesInfo entries that do not describe a DICOM-RTSS for loading\n",
    "        dicom_series_info = selection.execute(dicom_series_info)\n",
    "\n",
    "        # (optional)\n",
    "        # Define the metadata for the DICOM-RTSS\n",
    "        # Note: For some attributes, the value must follow the value\n",
    "        # representation of the DICOM standard.\n",
    "        meta_data = ps_io.RTSSMetaData(patient_size='180',\n",
    "                                       patient_weight='80',\n",
    "                                       patient_age='050Y',\n",
    "                                       series_description='Converted from NIfTI')\n",
    "\n",
    "        # Convert the segmentations to a DICOM-RTSS with standard smoothing settings.\n",
    "        # For the conversion we can either use a 2D or a 3D algorithm (see API reference\n",
    "        # for details).\n",
    "        # Note: Inappropriate smoothing leads to corrupted structures if their size\n",
    "        # is too small\n",
    "        if use_3d_conversion:\n",
    "            conv_conf = ps_io.RTSSConverter3DConfiguration()\n",
    "        else:\n",
    "            conv_conf = ps_io.RTSSConverter2DConfiguration()\n",
    "\n",
    "        converter = ps_io.SubjectToRTSSConverter(subject,\n",
    "                                                 dicom_series_info,\n",
    "                                                 reference_modality,\n",
    "                                                 conv_conf,\n",
    "                                                 meta_data)\n",
    "        rtss = converter.convert()\n",
    "\n",
    "        # Combine the DICOM-RTSS with its output file name\n",
    "        rtss_combination = ((rtss_filename, rtss),)\n",
    "\n",
    "        # Write the DICOM-RTSS to a separate subject directory\n",
    "        # and include the DICOM files crawled before\n",
    "        # Note: If you want to output just a subset of the\n",
    "        # original DICOM files you may use additional selectors\n",
    "        writer.write(rtss_combination, output_dir_path,\n",
    "                     subject.get_name(), dicom_series_info)\n"
   ],
   "metadata": {
    "collapsed": false
   }
  },
  {
   "cell_type": "markdown",
   "source": [
    "## Execute Conversion Procedure\n",
    "\n",
    "Before execution of the implemented conversion procedure the type of conversion algorithm needs to be selected and the paths must be adjusted. Make sure that the output directory is empty because PyRaDiSe is not allowed to override existing files for reducing data loss."
   ],
   "metadata": {
    "collapsed": false
   }
  },
  {
   "cell_type": "code",
   "execution_count": 4,
   "outputs": [
    {
     "name": "stdout",
     "output_type": "stream",
     "text": [
      "Converting subject VS-SEG-001...\n",
      "Converting subject VS-SEG-002...\n",
      "Converting subject VS-SEG-003...\n",
      "Converting subject VS-SEG-004...\n",
      "Converting subject VS-SEG-005...\n"
     ]
    }
   ],
   "source": [
    "# The indicator if the 2D or the 3D conversion algorithm should\n",
    "# be used.\n",
    "use_3d_algorithm = True\n",
    "\n",
    "# The input path pointing to the top-level directory containing the\n",
    "# NIfTI subject directories\n",
    "input_dataset_path = '//YOUR/PATH/TO/THE/EXAMPLE/DATA/nifti_data'\n",
    "input_dataset_path = 'D:/example_data/nifti_data'\n",
    "\n",
    "# The input path pointing to the top-level directory containing the\n",
    "# DICOM subject directories that will get referenced in the output\n",
    "# DICOM-RTSS files\n",
    "dicom_dataset_path = '//YOUR/PATH/TO/THE/EXAMPLE/DATA/dicom_data'\n",
    "dicom_dataset_path = 'D:/example_data/dicom_data/'\n",
    "\n",
    "# The output path pointing to an empty directory where the output\n",
    "# will be saved\n",
    "output_dataset_path = '//YOUR/PATH/TO/THE/OUTPUT/DIRECTORY/'\n",
    "output_dataset_path = 'D:/example_output/nii_to_dicom2'\n",
    "\n",
    "# Execution of the conversion procedure\n",
    "convert_subject_to_dicom_rtss(input_dataset_path,\n",
    "                              output_dataset_path,\n",
    "                              dicom_dataset_path,\n",
    "                              use_3d_algorithm)"
   ],
   "metadata": {
    "collapsed": false
   }
  },
  {
   "cell_type": "markdown",
   "source": [],
   "metadata": {
    "collapsed": false
   }
  },
  {
   "cell_type": "markdown",
   "source": [
    "## Results\n",
    "\n",
    "After the conversion procedure has finished, the results can be viewed in an appropriate tool such as [3DSlicer](https://www.slicer.org/). The expected result when using the provided example data should incorporate contours of multiple structures such as the skull and the tumor volume. The following images present the results retrieved with subject VS-SEG-001 from the example dataset.\n",
    "\n",
    "### Results Generated with 2D Algorithm\n",
    "The following image shows a 2D contour generated using the 2D-based conversion algorithm. In green one can perceive the discrete segmentation mask of the NIfTI image that was the conversion's input and the red contour is the resulting DICOM-RTSS contour.\n",
    "\n",
    "<p align=\"center\">\n",
    "    <img src=\"../examples/conversion/images/nii_to_dicom_res_0.png\"  height=\"500\">\n",
    "</p>\n",
    "\n",
    "The following skull 3D reconstruction demonstrates the overlap between the original DICOM data (green) and the converted DICOM-RTSS (red) that was previously converted to NIfTI.\n",
    "\n",
    "<p align=\"center\">\n",
    "    <img src=\"../examples/conversion/images/nii_to_dicom_res_1.png\"  height=\"500\">\n",
    "</p>\n",
    "\n",
    "Please note the missing segmentation volume at the nose tip of the subject that was out of the segmentation mask extent. This demonstrates that the 2D-based converter algorithm is feasible to reconstruct the contours even if the segmentation is not completely within the segmentation mask's extent.\n",
    "\n",
    "### Results Generated with 3D Algorithm\n",
    "The following results are generated using the 3D conversion algorithm on the same subject (i.e., VS-SEG-001) as before. Every entity highlighted in green represents the original DICOM-RTSS from the example dataset and all structures in red correspond with the newly converted DICOM-RTSS structures that were generated on basis of an intermediate NIfTI segmentation mask.\n",
    "\n",
    "The following image shows the same situation as for the 2D-based algorithm. As one can observe the newly converted DICOM-RTSS seems to be larger than the original one. However, our analysis showed that differences between the DICOM-RTSS are in the same range as for the result of the 2D algorithm and that the different appearance is presumably caused due to the higher density of contour points. We assume that the higher density of contour points allow a more accurate display of the result; thus, causing overlapping effects only at very small distances between the both 3D representations.\n",
    "\n",
    "<p align=\"center\">\n",
    "    <img src=\"../examples/conversion/images/nii_to_dicom_res_3d_0.png\"  height=\"500\">\n",
    "</p>\n",
    "\n",
    "When comparing the contours on the same slice as the result shown for the 2D algorithm, one can not identify major differences for easy structures. However, complex structures seem to generally appear much more natural when generated with the 3D algorithm and compared to results from the 2D algorithm.\n",
    "\n",
    "<p align=\"center\">\n",
    "    <img src=\"../examples/conversion/images/nii_to_dicom_res_3d_1.png\"  height=\"500\">\n",
    "</p>\n",
    "\n",
    "### Results Metadata\n",
    "The following figure shows the metadata from the generated DICOM-RTSS files that were modified using a `RTSSMetaData` instance.\n",
    "\n",
    "<p align=\"center\">\n",
    "    <img src=\"../examples/conversion/images/metadata.png\"  height=\"500\">\n",
    "</p>"
   ],
   "metadata": {
    "collapsed": false
   }
  }
 ],
 "metadata": {
  "kernelspec": {
   "display_name": "Python 3",
   "language": "python",
   "name": "python3"
  },
  "language_info": {
   "codemirror_mode": {
    "name": "ipython",
    "version": 2
   },
   "file_extension": ".py",
   "mimetype": "text/x-python",
   "name": "python",
   "nbconvert_exporter": "python",
   "pygments_lexer": "ipython2",
   "version": "2.7.6"
  }
 },
 "nbformat": 4,
 "nbformat_minor": 0
}
