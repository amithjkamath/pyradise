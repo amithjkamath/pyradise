{
 "cells": [
  {
   "cell_type": "markdown",
   "source": [
    "# NIfTI to DICOM-RTSS Conversion\n",
    "\n",
    "In this example, we demonstrate the conversion from NIfTI to DICOM-RTSS using the example data provided (details see [Examples](examples.rst). Because DICOM-RTSS files are closely linked to the corresponding DICOM image series and include references to those, the conversion procedure is not as straightforward as it may be assumed. However, PyRaDiSe provides all necessary functionality and automates many of the tasks, such that the user requires minimal effort.\n",
    "\n",
    "Before going through this example, we want to emphasize that this conversion procedure will fail if the input NIfTI data is not within the extent of the corresponding DICOM image series. The conversion routines are not feasible to compensate for data misalignment because this is up to the user.\n"
   ],
   "metadata": {
    "collapsed": false
   }
  },
  {
   "cell_type": "markdown",
   "source": [
    "## Import Procedure\n",
    "First of all, let's import the necessary classes for this example."
   ],
   "metadata": {
    "collapsed": false
   }
  },
  {
   "cell_type": "markdown",
   "source": [],
   "metadata": {
    "collapsed": false
   }
  },
  {
   "cell_type": "code",
   "execution_count": 1,
   "outputs": [],
   "source": [
    "import os\n",
    "from typing import Optional\n",
    "\n",
    "from pyradise.data import (Modality, Organ, Rater)\n",
    "from pyradise.fileio import (SubjectLoader, DatasetFileCrawler, SubjectDicomCrawler,\n",
    "                             ModalityExtractor, OrganExtractor, RaterExtractor, Tag,\n",
    "                             NoRTSSInfoSelector, SubjectToRTSSConverter,\n",
    "                             DicomSeriesSubjectWriter)"
   ],
   "metadata": {
    "collapsed": false
   }
  },
  {
   "cell_type": "markdown",
   "source": [
    "## Extractor Implementation\n",
    "Because the naming of NIfTI files is flexible and does not incorporate content-related metadata, PyRaDiSe requires the user to implement `Extractors` to retrieve information about the `Modality` of the `IntensityImages` or, in the case of `SegmentationImages` about the `Organ` depicted and the `Rater` who created the segmentations. The approach of using user-implemented `Extractors` allows for maximum flexibility because the necessary content-related information can be either retrieved from the file path of the corresponding file or by looking into a third-party information source such as a database.\n",
    "\n",
    "For implementation, one must inherit from the provided `Extractor` base classes that provide implemented examples and explanations. In general, each `Extractor` gets the file path of the NIfTI file for which the content-related information is requested. Based on this path, the user must implement the `extract` method such that the method returns the requested information or `None` if the image type does not fit the `Extractor`.\n",
    "\n",
    "The `ModalityExtractor`, in contrast to other `Extractor` types, possesses two `extract` methods, which are separately used for DICOM data and discrete medical images. If the user exclusively works which DICOM or discrete image data, the other `extract` method may skip from implementation by returning None. However, both `extract` methods are required in this example because DICOM and discrete image data are processed."
   ],
   "metadata": {
    "collapsed": false
   }
  },
  {
   "cell_type": "code",
   "execution_count": 2,
   "outputs": [],
   "source": [
    "class ExampleModalityExtractor(ModalityExtractor):\n",
    "\n",
    "    def extract_from_dicom(self, path: str) -> Optional[Modality]:\n",
    "        # Extract the necessary attributes from the DICOM file\n",
    "        tags = (Tag(0x0008, 0x0060),  # Modality\n",
    "                Tag((0x0008, 0x103e)))  # Series Description\n",
    "        dataset_dict = self._load_dicom_attributes(tags, path)\n",
    "\n",
    "        # Identify the modality rule-based\n",
    "        modality = dataset_dict.get('Modality', {}).get('value', None)\n",
    "        series_desc = dataset_dict.get('Series Description', {}).get('value', '')\n",
    "        if modality == 'MR':\n",
    "            if 't1' in series_desc.lower():\n",
    "                return Modality('T1')\n",
    "            elif 't2' in series_desc.lower():\n",
    "                return Modality('T2')\n",
    "            else:\n",
    "                return None\n",
    "        else:\n",
    "            return None\n",
    "\n",
    "    def extract_from_path(self, path: str) -> Optional[Modality]:\n",
    "        # Identify the discrete image file's modality rule-based\n",
    "        filename = os.path.basename(path)\n",
    "\n",
    "        # Check if the image contains an img prefix\n",
    "        # (i.e., it is a intensity image)\n",
    "        if not filename.startswith('img'):\n",
    "            return None\n",
    "\n",
    "        # Check if the image contains a modality search string\n",
    "        if 'T1' in filename:\n",
    "            return Modality('T1')\n",
    "        elif 'T2' in filename:\n",
    "            return Modality('T2')\n",
    "        else:\n",
    "            return None\n",
    "\n",
    "\n",
    "class ExampleOrganExtractor(OrganExtractor):\n",
    "\n",
    "    def extract(self, path: str) -> Optional[Organ]:\n",
    "        # Identify the discrete image file's organ rule-based\n",
    "        filename = os.path.basename(path)\n",
    "\n",
    "        # Check if the image contains a seg prefix\n",
    "        # (i.e., it is a segmentation)\n",
    "        if not filename.startswith('seg'):\n",
    "            return None\n",
    "\n",
    "        # Split the filename for extracting the organ name\n",
    "        organ_name = filename.split('_')[-1].split('.')[0]\n",
    "        return Organ(organ_name)\n",
    "\n",
    "\n",
    "class ExampleRaterExtractor(RaterExtractor):\n",
    "\n",
    "    def extract(self, path: str) -> Optional[Rater]:\n",
    "        # Identify the discrete image file's rater rule-based\n",
    "        filename = os.path.basename(path)\n",
    "\n",
    "        # Check if the image contains a seg prefix\n",
    "        # (i.e., it is a segmentation)\n",
    "        if not filename.startswith('seg'):\n",
    "            return None\n",
    "\n",
    "        # Split the filename for extracting the rater name\n",
    "        rater_name = filename.split('_')[2]\n",
    "        return Rater(rater_name)"
   ],
   "metadata": {
    "collapsed": false
   }
  },
  {
   "cell_type": "markdown",
   "source": [
    "## Conversion Procedure Construction\n",
    "In the following code section, one defines first a reference `Modality` used for identifying the reference DICOM image series. Then, several specific component instantiations follow this, establishing the functionality for crawling, loading, selecting `SeriesInfo` entries, and writing the newly generated DICOM-RTSS. After setting up these functional components, the NIfTI `Crawler` extracts subject-by-subject the necessary `SeriesInfo` entries using the antecedently implemented `Extractors`. Following the NIfTI crawling, the NIfTI data gets loaded using the `SubjectLoader`. After executing the crawling of the DICOM data and a selection process on the `SeriesInfo` for excluding the old DICOM-RTSS data, conversion of the NIfTI data takes place. Finally, the writing of the resulting DICOM-RTSS dataset is achieved using the `DicomSeriesSubjectWriter`'s functionality."
   ],
   "metadata": {
    "collapsed": false
   }
  },
  {
   "cell_type": "code",
   "execution_count": 3,
   "outputs": [],
   "source": [
    "def convert_subject_to_dicom_rtss(input_dir_path: str,\n",
    "                                  output_dir_path: str,\n",
    "                                  dicom_image_dir_path: str\n",
    "                                  ) -> None:\n",
    "    # Specify a reference modalities\n",
    "    # This is the modality of the DICOM image series that will be\n",
    "    # referenced in the DICOM-RTSS.\n",
    "    reference_modality = Modality('T1')\n",
    "\n",
    "    # Create the loader\n",
    "    loader = SubjectLoader()\n",
    "\n",
    "    # Create the writer and specify the output file name of the\n",
    "    # DICOM-RTSS files\n",
    "    writer = DicomSeriesSubjectWriter()\n",
    "    rtss_filename = 'rtss.dcm'\n",
    "\n",
    "    # (optional)\n",
    "    # Instantiate a new selection to exclude the original DICOM-RTSS SeriesInfo\n",
    "    # Note: If this is omitted the original DICOM-RTSS will be copied to the\n",
    "    # corresponding output directory.\n",
    "    selection = NoRTSSInfoSelector()\n",
    "\n",
    "    # Create the file crawler for the discrete image files and\n",
    "    # loop through the subjects\n",
    "    crawler = DatasetFileCrawler(input_dir_path,\n",
    "                                 extension='.nii.gz',\n",
    "                                 modality_extractor=ExampleModalityExtractor(),\n",
    "                                 organ_extractor=ExampleOrganExtractor(),\n",
    "                                 rater_extractor=ExampleRaterExtractor())\n",
    "    for series_info in crawler:\n",
    "\n",
    "        # Load the subject\n",
    "        subject = loader.load(series_info)\n",
    "\n",
    "        # Construct the path to the subject's DICOM images\n",
    "        dicom_subject_path = os.path.join(dicom_image_dir_path, subject.get_name())\n",
    "\n",
    "        # Construct a DICOM crawler to retrieve the reference\n",
    "        # DICOM image series info\n",
    "        dcm_crawler = SubjectDicomCrawler(dicom_subject_path,\n",
    "                                          modality_extractor=ExampleModalityExtractor())\n",
    "        dicom_series_info = dcm_crawler.execute()\n",
    "\n",
    "        # (optional)\n",
    "        # Keep all SeriesInfo entries that do not describe a DICOM-RTSS for loading\n",
    "        dicom_series_info = selection.execute(dicom_series_info)\n",
    "\n",
    "        # Convert the segmentations to a DICOM-RTSS with standard smoothing settings\n",
    "        # Note: Too strong smoothing may lead to corrupted structures if their size\n",
    "        # is too small\n",
    "        converter = SubjectToRTSSConverter(subject, dicom_series_info,\n",
    "                                           reference_modality)\n",
    "        rtss = converter.convert()\n",
    "\n",
    "        # Combine the DICOM-RTSS with its output file name\n",
    "        rtss_combination = ((rtss_filename, rtss),)\n",
    "\n",
    "        # Write the DICOM-RTSS to a separate subject directory\n",
    "        # and include the DICOM files crawled before\n",
    "        # Note: If you want to output just a subset of the\n",
    "        # original DICOM files you may use additional selectors\n",
    "        writer.write(rtss_combination, output_dir_path,\n",
    "                     subject.get_name(), dicom_series_info)\n"
   ],
   "metadata": {
    "collapsed": false
   }
  },
  {
   "cell_type": "markdown",
   "source": [
    "## Execute Conversion Procedure\n",
    "\n",
    "Before executing the implemented procedure, one needs to adjust the following paths accordingly. Make sure that the output directory is empty because PyRaDiSe is not allowed to override existing files to reduce the risks of data loss. Afterward, the conversion procedure can be executed, and the results should appear in the specified output directory."
   ],
   "metadata": {
    "collapsed": false
   }
  },
  {
   "cell_type": "code",
   "execution_count": 4,
   "outputs": [],
   "source": [
    "# The input path pointing to the top-level directory containing the\n",
    "# NIfTI subject directories\n",
    "input_dataset_path = 'C:/temp/test_output_6'\n",
    "\n",
    "# The input path pointing to the top-level directory containing the\n",
    "# DICOM subject directories that will get referenced in the output\n",
    "# DICOM-RTSS files\n",
    "dicom_dataset_path = 'D:/tcia_data/curated_data/'\n",
    "\n",
    "# The output path pointing to an empty directory where the output\n",
    "# will be saved\n",
    "output_dataset_path = 'C:/temp/rtss_output_6'\n",
    "\n",
    "# Execution of the conversion procedure\n",
    "convert_subject_to_dicom_rtss(input_dataset_path,\n",
    "                              output_dataset_path,\n",
    "                              dicom_dataset_path)"
   ],
   "metadata": {
    "collapsed": false
   }
  },
  {
   "cell_type": "markdown",
   "source": [],
   "metadata": {
    "collapsed": false
   }
  },
  {
   "cell_type": "markdown",
   "source": [
    "## Expected Result\n",
    "After the conversion procedure has been executed, the following output should result using the provided example data. The following image, taken from subject VS-SEG-001, shows overlayed tumor volume segmentations from the input NIfTI file (green) and the newly generated DICOM-RTSS (red).\n",
    "\n",
    "<p style=\"text-align:center;\"><img src=\"../examples/conversion/images/nii_to_dicom_res_0.png\"  height=\"500\"></p>\n",
    "\n",
    "The following skull reconstruction of subject VS-SEG-001 from the example data, demonstrates the overlap between the original DICOM data (green) and the converted DICOM-RTSS (red) that was previously converted to NIfTI.\n",
    "\n",
    "<p style=\"text-align:center;\"><img src=\"../examples/conversion/images/nii_to_dicom_res_1.png\"  height=\"500\"></p>\n",
    "\n",
    "Please note the missing segmentation volume at the nose tip of the subject. This issue demonstrates what happens if the NIfTI segmentation is not entirely inside the DICOM image and thus can not be reconstructed."
   ],
   "metadata": {
    "collapsed": false
   }
  }
 ],
 "metadata": {
  "kernelspec": {
   "display_name": "Python 3",
   "language": "python",
   "name": "python3"
  },
  "language_info": {
   "codemirror_mode": {
    "name": "ipython",
    "version": 2
   },
   "file_extension": ".py",
   "mimetype": "text/x-python",
   "name": "python",
   "nbconvert_exporter": "python",
   "pygments_lexer": "ipython2",
   "version": "2.7.6"
  }
 },
 "nbformat": 4,
 "nbformat_minor": 0
}
