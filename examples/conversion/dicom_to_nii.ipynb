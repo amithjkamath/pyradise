{
 "cells": [
  {
   "cell_type": "markdown",
   "source": [
    "# DICOM to NIfTI Conversion\n",
    "This example demonstrates the conversion capabilities of PyRaDiSe by converting DICOM data into NIfTI images using the example data provided (details see [Examples](examples.rst)). However, because the example data comprises two uni-modal DICOM images (i.e., a T1-weighted and a T2-weighted MR image) and the DICOM data only provides minimal information about the modality and the acquisition details, PyRaDiSe is not able to automatically deduce the modality such that it can discriminate between the two images. Resolving this issue requires either a manually adjusted modality configuration file or a user-implemented [ModalityExtractor](https://pyradise.readthedocs.io/en/latest/reference/pyradise.fileio.extraction.html#pyradise.fileio.extraction.ModalityExtractor). This example demonstrates both approaches so the reader can understand which approach best fits the current application.\n",
    "\n",
    "Please note that this issue only arises if the import data comprises at least two uni-modal images. If this is not the case, PyRaDiSe assigns the modality retrieved from the DICOM data to the corresponding images, and the user does not need to take any action."
   ],
   "metadata": {
    "collapsed": false
   }
  },
  {
   "cell_type": "markdown",
   "source": [
    "## Import Procedure\n",
    "First of all, let's import the necessary classes for this example."
   ],
   "metadata": {
    "collapsed": false
   }
  },
  {
   "cell_type": "code",
   "execution_count": 1,
   "outputs": [],
   "source": [
    "from typing import (Tuple, Optional)\n",
    "\n",
    "from pyradise.data import Modality\n",
    "from pyradise.fileio import (DatasetDicomCrawler, SubjectLoader, SubjectWriter,\n",
    "                             ModalityExtractor, Tag, ModalityInfoSelector)\n",
    "from pyradise.process import (FilterPipeline, ResampleFilterParams, ResampleFilter,\n",
    "                              OrientationFilterParams, OrientationFilter)"
   ],
   "metadata": {
    "collapsed": false
   }
  },
  {
   "cell_type": "markdown",
   "source": [
    "## Pipeline Preparation\n",
    "Now, let's prepare the processing pipeline that is applied to each loaded subject. The construction of the pipeline is up to the user and may contain filters implemented by the user. The hereby demonstrated processing pipeline first reorients each image to have RAS (right-anterior-superior) orientation. After reorienting, each image is resampled to have an output size of 256, 256, 256 voxels with unit voxel spacing. In order to ensure that all images possess the same origin and orientation we use the centering_method `'reference'`.\n",
    "\n",
    "For an overview of the available filters and details about specific filters we refer to the [API reference](api.rst). If you plan to implement new filters we encourage you to study the [recommended implementation workflow](https://pyradise.readthedocs.io/en/latest/reference/pyradise.process.base.html#pyradise.process.base.Filter). Furthermore, if you think that your filter may be of interest for other users, we appreciate your pull request to the [PyRaDiSe repository on GitHub](https://github.com/ubern-mia/pyradise)."
   ],
   "metadata": {
    "collapsed": false
   }
  },
  {
   "cell_type": "code",
   "execution_count": 2,
   "outputs": [],
   "source": [
    "def get_pipeline(output_size: Tuple[int, int, int] = (256, 256, 256),\n",
    "                 output_spacing: Tuple[float, float, float] = (1.0, 1.0, 1.0),\n",
    "                 reference_modality: str = 'T1'\n",
    "                 ) -> FilterPipeline:\n",
    "    # Create an empty filter pipeline\n",
    "    pipeline = FilterPipeline()\n",
    "\n",
    "    # Add an orientation filter to the pipeline\n",
    "    orientation_params = OrientationFilterParams(output_orientation='RAS')\n",
    "    pipeline.add_filter(OrientationFilter(), orientation_params)\n",
    "\n",
    "    # Add a resampling filter to the pipeline\n",
    "    resample_params = ResampleFilterParams(output_size,\n",
    "                                           output_spacing,\n",
    "                                           reference_modality=reference_modality,\n",
    "                                           centering_method='reference')\n",
    "    pipeline.add_filter(ResampleFilter(), resample_params)\n",
    "\n",
    "    return pipeline"
   ],
   "metadata": {
    "collapsed": false
   }
  },
  {
   "cell_type": "markdown",
   "source": [
    "## Approach 1: Modality Details Retrieval via Modality Configuration File\n",
    "\n",
    "Now, we demonstrate the first approach, retrieving the modality and its details using so-called modality configuration files that need to exist for each subject before loading such that the different images are discriminable. Using an appropriate `Crawler` with corresponding settings allows for the automatic generation of the file skeletons. However, the subsequent adjustment of the file skeletons takes place by the user manually such that each modality configuration file contains no modality duplicates after modification. Nevertheless, let us go step by step.\n",
    "\n",
    "First of all adjust the following paths according to your setup.\n",
    "Make sure that the output path is empty, otherwise an error will be raised during execution to hinder data overriding."
   ],
   "metadata": {
    "collapsed": false
   }
  },
  {
   "cell_type": "code",
   "execution_count": 3,
   "outputs": [],
   "source": [
    "# The input path pointing to the top-level directory containing the subject directories\n",
    "input_dataset_path_1 = '//YOUR/PATH/TO/THE/EXAMPLE/DATA/dicom_data/'\n",
    "\n",
    "# The output path pointing to an empty directory where the output will be saved\n",
    "output_dataset_path_1 = '//YOUR/PATH/TO/THE/OUTPUT/DIRECTORY/'"
   ],
   "metadata": {
    "collapsed": false
   }
  },
  {
   "cell_type": "markdown",
   "source": [
    "### Approach 1: Modality Configuration Skeleton Generation\n",
    "For the generation of the modality configuration file skeletons, the user instantiates an appropriate `Crawler` and executes it with `write_modality_config=True`. The execution of the crawling procedure lets the `Crawler` search for appropriate DICOM files and extract essential information from the DICOM files to construct the modality configuration file skeletons. Furthermore, the `Crawler` automatically writes the skeleton files into the corresponding subject folder."
   ],
   "metadata": {
    "collapsed": false
   }
  },
  {
   "cell_type": "code",
   "execution_count": 4,
   "outputs": [
    {
     "name": "stderr",
     "output_type": "stream",
     "text": [
      "The modality configuration file already exists and will not be overwritten.\n"
     ]
    },
    {
     "data": {
      "text/plain": "((<pyradise.fileio.series_info.DicomSeriesImageInfo at 0x1d4be1a62b0>,\n  <pyradise.fileio.series_info.DicomSeriesImageInfo at 0x1d4be3fe0d0>,\n  <pyradise.fileio.series_info.DicomSeriesRTSSInfo at 0x1d4be406f70>),\n (<pyradise.fileio.series_info.DicomSeriesImageInfo at 0x1d4c52f72b0>,\n  <pyradise.fileio.series_info.DicomSeriesImageInfo at 0x1d4be406c10>,\n  <pyradise.fileio.series_info.DicomSeriesRTSSInfo at 0x1d4be3fe790>),\n (<pyradise.fileio.series_info.DicomSeriesImageInfo at 0x1d4c5fe9eb0>,\n  <pyradise.fileio.series_info.DicomSeriesImageInfo at 0x1d4c5fe9b50>,\n  <pyradise.fileio.series_info.DicomSeriesRTSSInfo at 0x1d4be3fe130>),\n (<pyradise.fileio.series_info.DicomSeriesImageInfo at 0x1d4be3fe160>,\n  <pyradise.fileio.series_info.DicomSeriesImageInfo at 0x1d4c6c11be0>,\n  <pyradise.fileio.series_info.DicomSeriesRTSSInfo at 0x1d4be406cd0>),\n (<pyradise.fileio.series_info.DicomSeriesImageInfo at 0x1d4be406af0>,\n  <pyradise.fileio.series_info.DicomSeriesImageInfo at 0x1d4be1a6580>,\n  <pyradise.fileio.series_info.DicomSeriesRTSSInfo at 0x1d4c7a89eb0>))"
     },
     "execution_count": 4,
     "metadata": {},
     "output_type": "execute_result"
    }
   ],
   "source": [
    "DatasetDicomCrawler(input_dataset_path_1, write_modality_config=True).execute()"
   ],
   "metadata": {
    "collapsed": false
   }
  },
  {
   "cell_type": "markdown",
   "source": [
    "### Approach 1: Manual Modality Configuration Adjustment\n",
    "After creating the modality configuration skeletons, the user must manually adjust the `\"Modality\"` value for each duplicated DICOM image series (change `\"UNKNOWN\"` to a discriminable and informative identifier such as `\"T1\"` or `\"T2\"`).\n",
    "\n",
    "**Example of a Modality Configuration File Skeleton Before Manual Modification**\n",
    "\n",
    "```json\n",
    "[\n",
    "    {\n",
    "        \"SOPClassUID\": \"1.2.840.10008.5.1.4.1.1.4\",\n",
    "        \"StudyInstanceUID\": \"1.3.6.1.4.1.14519.5.2.1.267424821384663813780850856506829388886\",\n",
    "        \"SeriesInstanceUID\": \"1.3.6.1.4.1.14519.5.2.1.149357697745643823053302398129943470751\",\n",
    "        \"SeriesDescription\": \"t1_mpr_tra_gk_v4\",\n",
    "        \"SeriesNumber\": \"2\",\n",
    "        \"DICOM_Modality\": \"MR\",\n",
    "        \"Modality\": \"UNKNOWN\"\n",
    "    },\n",
    "    {\n",
    "        \"SOPClassUID\": \"1.2.840.10008.5.1.4.1.1.4\",\n",
    "        \"StudyInstanceUID\": \"1.3.6.1.4.1.14519.5.2.1.267424821384663813780850856506829388886\",\n",
    "        \"SeriesInstanceUID\": \"1.3.6.1.4.1.14519.5.2.1.97824612055862366318560427964793890998\",\n",
    "        \"SeriesDescription\": \"t2_ci3d_tra_1.5mm_v1\",\n",
    "        \"SeriesNumber\": \"4\",\n",
    "        \"DICOM_Modality\": \"MR\",\n",
    "        \"Modality\": \"UNKNOWN\"\n",
    "    }\n",
    "]\n",
    "```\n",
    "\n",
    "**Example of a Modality Configuration File Skeleton After Manual Modification**\n",
    "\n",
    "```json\n",
    "[\n",
    "    {\n",
    "        \"SOPClassUID\": \"1.2.840.10008.5.1.4.1.1.4\",\n",
    "        \"StudyInstanceUID\": \"1.3.6.1.4.1.14519.5.2.1.267424821384663813780850856506829388886\",\n",
    "        \"SeriesInstanceUID\": \"1.3.6.1.4.1.14519.5.2.1.149357697745643823053302398129943470751\",\n",
    "        \"SeriesDescription\": \"t1_mpr_tra_gk_v4\",\n",
    "        \"SeriesNumber\": \"2\",\n",
    "        \"DICOM_Modality\": \"MR\",\n",
    "        \"Modality\": \"T1\"\n",
    "    },\n",
    "    {\n",
    "        \"SOPClassUID\": \"1.2.840.10008.5.1.4.1.1.4\",\n",
    "        \"StudyInstanceUID\": \"1.3.6.1.4.1.14519.5.2.1.267424821384663813780850856506829388886\",\n",
    "        \"SeriesInstanceUID\": \"1.3.6.1.4.1.14519.5.2.1.97824612055862366318560427964793890998\",\n",
    "        \"SeriesDescription\": \"t2_ci3d_tra_1.5mm_v1\",\n",
    "        \"SeriesNumber\": \"4\",\n",
    "        \"DICOM_Modality\": \"MR\",\n",
    "        \"Modality\": \"T2\"\n",
    "    }\n",
    "]\n",
    "```\n",
    "<div class=\"alert alert-info\">\n",
    "\n",
    "**Note:**\n",
    "\n",
    "Please do not change the `\"DICOM_Modality\"` key in the JSON-file.\n",
    "\n",
    "</div>"
   ],
   "metadata": {
    "collapsed": false
   }
  },
  {
   "cell_type": "markdown",
   "source": [
    "### Approach 1: Construct the Conversion Procedure\n",
    "Now, all DICOM image series are specified fully, and the data is ready for loading. The following code block describes and demonstrates the loading procedure followed by a simple data pre-processing and a data saving operation in the NIfTI format (default setting of the `SubjectWriter`).\n",
    "\n",
    "After execution of the conversion you can check the resulting data with appropriate imaging software (e.g., [3D Slicer](https://www.slicer.org/))\n"
   ],
   "metadata": {
    "collapsed": false
   }
  },
  {
   "cell_type": "code",
   "execution_count": 5,
   "outputs": [
    {
     "name": "stdout",
     "output_type": "stream",
     "text": [
      "Processing subject VS-SEG-001...\n",
      "Processing subject VS-SEG-002...\n",
      "Processing subject VS-SEG-003...\n",
      "Processing subject VS-SEG-004...\n",
      "Processing subject VS-SEG-005...\n"
     ]
    }
   ],
   "source": [
    "def convert_dicom_to_nifti_with_modality_config(input_path: str,\n",
    "                                                output_path: str\n",
    "                                                ) -> None:\n",
    "    # Instantiate a new loader\n",
    "    loader = SubjectLoader()\n",
    "\n",
    "    # (optional)\n",
    "    # Get the filter pipeline\n",
    "    pipeline = get_pipeline()\n",
    "\n",
    "    # Instantiate a new writer with default settings\n",
    "    # Note: You can adjust here the output image file format\n",
    "    # and the naming of the output files\n",
    "    writer = SubjectWriter()\n",
    "\n",
    "    # (optional)\n",
    "    # Instantiate a new selection to exclude additional SeriesInfo entries\n",
    "    expected_modalities = ('T1', 'T2')\n",
    "    modality_selection = ModalityInfoSelector(expected_modalities)\n",
    "\n",
    "    # Search DICOM files for each subject and iterate over the crawler\n",
    "    crawler = DatasetDicomCrawler(input_path)\n",
    "    for series_info in crawler:\n",
    "\n",
    "        # (optional)\n",
    "        # Keep just the selected modalities for loading\n",
    "        # Note: SeriesInfo entries for non-image data get returned unfiltered\n",
    "        series_info = modality_selection.execute(series_info)\n",
    "\n",
    "        # Load the subject from the series info\n",
    "        subject = loader.load(series_info)\n",
    "\n",
    "        # (optional)\n",
    "        # Execute the filter pipeline on the subject\n",
    "        print(f'Processing subject {subject.get_name()}...')\n",
    "        subject = pipeline.execute(subject)\n",
    "\n",
    "        # Write each subject to a specific subject directory\n",
    "        writer.write_to_subject_folder(output_path, subject,\n",
    "                                       write_transforms=False)\n",
    "\n",
    "# Execute the conversion procedure (approach 1)\n",
    "convert_dicom_to_nifti_with_modality_config(input_dataset_path_1,\n",
    "                                            output_dataset_path_1)"
   ],
   "metadata": {
    "collapsed": false
   }
  },
  {
   "cell_type": "markdown",
   "source": [
    "## Approach 2: Modality Details Retrieval via ModalityExtractor\n",
    "Now, we demonstrate the second approach, retrieving the modality and its details using an implemented `ModalityExtractor`.\n",
    "\n",
    "As for the first approach, adjust the following paths according to your setup.\n",
    "Make sure that the output path is empty, otherwise an error will be raised during execution to hinder data overriding."
   ],
   "metadata": {
    "collapsed": false
   }
  },
  {
   "cell_type": "code",
   "execution_count": 6,
   "outputs": [],
   "source": [
    "# The input path pointing to the top-level directory containing the subject directories\n",
    "input_dataset_path_2 = '//YOUR/PATH/TO/THE/EXAMPLE/DATA/dicom_data/'\n",
    "\n",
    "# The output path pointing to an empty directory where the output will be saved\n",
    "output_dataset_path_2 = '//YOUR/PATH/TO/THE/OUTPUT/DIRECTORY/'"
   ],
   "metadata": {
    "collapsed": false
   }
  },
  {
   "cell_type": "markdown",
   "source": [
    "### Approach 2: ModalityExtractor Implementation\n",
    "In contrast to the first approach, the modality details are extracted via a set of rules or by accessing a third-party database. Here we use a rule-based approach because the example data encodes the sequence name (i.e., `\"T1\"` and `\"T2\"`) in the series description (`SeriesDescription` attribute). In order to extract the necessary information, we implement the `extract_from_dicom` method of the `ModalityExtractor`. In our implementation, we first define a set of DICOM tags that should be read from each DICOM file. Those tags are specified in the DICOM standard and are easily retrievable by looking into the [DICOM Standard Browser](https://dicom.innolitics.com/ciods). After defining the necessary DICOM tags, the `ModalityExtractor` retrieves the requested DICOM attributes from the provided DICOM file specified via its path. Afterward, we implement rules to identify the modalities and return a corresponding `Modality` instance.\n",
    "\n",
    "The `extract_from_path` method is skipped from implementation here because the example data consists exclusively of DICOM files. An implementation of this method is only required for retrieving the modality details of discrete image files (e.g., NIfTI files)."
   ],
   "metadata": {
    "collapsed": false
   }
  },
  {
   "cell_type": "code",
   "execution_count": 7,
   "outputs": [],
   "source": [
    "class ExampleModalityExtractor(ModalityExtractor):\n",
    "\n",
    "    def extract_from_dicom(self, path: str) -> Optional[Modality]:\n",
    "        # Extract the necessary attributes from the DICOM file\n",
    "        tags = (Tag(0x0008, 0x0060),    # Modality\n",
    "                Tag((0x0008, 0x103e)))  # Series Description\n",
    "        dataset_dict = self._load_dicom_attributes(tags, path)\n",
    "\n",
    "        # Identify the modality rule-based\n",
    "        modality = dataset_dict.get('Modality', {}).get('value', None)\n",
    "        series_desc = dataset_dict.get('Series Description', {}).get('value', '')\n",
    "        if modality == 'MR':\n",
    "            if 't1' in series_desc.lower():\n",
    "                return Modality('T1')\n",
    "            elif 't2' in series_desc.lower():\n",
    "                return Modality('T2')\n",
    "            else:\n",
    "                return None\n",
    "        else:\n",
    "            return None\n",
    "\n",
    "    def extract_from_path(self, path: str) -> Optional[Modality]:\n",
    "        # We can skip the implementation of this method, because we work\n",
    "        # exclusively with DICOM files\n",
    "        return None"
   ],
   "metadata": {
    "collapsed": false
   }
  },
  {
   "cell_type": "markdown",
   "source": [
    "### Approach 2: Construct the Conversion Procedure\n",
    "For creating the pre-loading information (i.e., `DicomSeriesInfo`), the implemented `ModalityExtractor` is assigned to the `Crawler`, which calls it to retrieve the `Modality` of each DICOM image series. The remaining part of the following code block has already been explained in approach one; thus, we skip repeating ourselves.\n",
    "\n",
    "After execution of the conversion you can check the resulting data with appropriate imaging software (e.g., [3D Slicer](https://www.slicer.org/))"
   ],
   "metadata": {
    "collapsed": false
   }
  },
  {
   "cell_type": "code",
   "execution_count": 8,
   "outputs": [
    {
     "name": "stdout",
     "output_type": "stream",
     "text": [
      "Processing subject VS-SEG-001...\n",
      "Processing subject VS-SEG-002...\n",
      "Processing subject VS-SEG-003...\n",
      "Processing subject VS-SEG-004...\n",
      "Processing subject VS-SEG-005...\n"
     ]
    }
   ],
   "source": [
    "def convert_dicom_to_nifti_with_modality_extractor(input_path: str,\n",
    "                                                   output_path: str) -> None:\n",
    "    # Instantiate a new loader\n",
    "    loader = SubjectLoader()\n",
    "\n",
    "    # (optional)\n",
    "    # Get the filter pipeline\n",
    "    pipeline = get_pipeline()\n",
    "\n",
    "    # Instantiate a new writer with default settings\n",
    "    # Note: You can adjust here the output image file format\n",
    "    # and the naming of the output files\n",
    "    writer = SubjectWriter()\n",
    "\n",
    "    # (optional)\n",
    "    # Instantiate a new selection to exclude additional SeriesInfo entries\n",
    "    expected_modalities = ('T1', 'T2')\n",
    "    modality_selection = ModalityInfoSelector(expected_modalities)\n",
    "\n",
    "    # Search DICOM files for each subject and iterate over the crawler\n",
    "    # ATTENTION: If a modality configuration file is contained in the\n",
    "    # subject directory the modality extractor is ignored. To circumvent\n",
    "    # this we applied a trick (renaming the modality configuration file name)\n",
    "    # such that the crawler can not find the modality configuration\n",
    "    # file (see last code line of the following statement).\n",
    "    crawler = DatasetDicomCrawler(input_path,\n",
    "                                  modality_extractor=ExampleModalityExtractor(),\n",
    "                                  modality_config_file_name='x.json')\n",
    "    for series_info in crawler:\n",
    "\n",
    "        # (optional)\n",
    "        # Keep just the selected modalities for loading\n",
    "        # Note: SeriesInfo entries for non-image data get returned unfiltered\n",
    "        series_info = modality_selection.execute(series_info)\n",
    "\n",
    "        # Load the subject from the series info\n",
    "        subject = loader.load(series_info)\n",
    "\n",
    "        # (optional)\n",
    "        # Execute the filter pipeline on the subject\n",
    "        print(f'Processing subject {subject.get_name()}...')\n",
    "        subject = pipeline.execute(subject)\n",
    "\n",
    "        # Write each subject to a specific subject directory\n",
    "        writer.write_to_subject_folder(output_path, subject,\n",
    "                                       write_transforms=False)\n",
    "\n",
    "# Execute the conversion procedure (approach 2)\n",
    "convert_dicom_to_nifti_with_modality_extractor(input_dataset_path_2,\n",
    "                                             output_dataset_path_2)"
   ],
   "metadata": {
    "collapsed": false
   }
  },
  {
   "cell_type": "markdown",
   "source": [
    "## Result\n",
    "\n",
    "The following images shows overlays of the original DICOM-RTSS target volume (TV, red boundary) from subject VS-SEG-001 with the one converted to NIfTI (green-filled segmentation).\n",
    "\n",
    "<p style=\"text-align:center;\"><img src=\"../examples/conversion/images/dicom_to_nii_res_0.png\"  width=\"500\"></p>\n",
    "\n",
    "<p style=\"text-align:center;\"><img src=\"../examples/conversion/images/dicom_to_nii_res_1.png\"  width=\"500\"></p>"
   ],
   "metadata": {
    "collapsed": false
   }
  }
 ],
 "metadata": {
  "kernelspec": {
   "display_name": "Python 3",
   "language": "python",
   "name": "python3"
  },
  "language_info": {
   "codemirror_mode": {
    "name": "ipython",
    "version": 2
   },
   "file_extension": ".py",
   "mimetype": "text/x-python",
   "name": "python",
   "nbconvert_exporter": "python",
   "pygments_lexer": "ipython2",
   "version": "2.7.6"
  }
 },
 "nbformat": 4,
 "nbformat_minor": 0
}
