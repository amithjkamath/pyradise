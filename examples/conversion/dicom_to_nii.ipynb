{
 "cells": [
  {
   "cell_type": "markdown",
   "source": [
    "# Conversion from DICOM to NIFTI\n",
    "\n",
    "TO BE WRITTEN"
   ],
   "metadata": {
    "collapsed": false,
    "pycharm": {
     "name": "#%% md\n"
    }
   }
  },
  {
   "cell_type": "code",
   "execution_count": null,
   "outputs": [],
   "source": [
    "import os\n",
    "\n",
    "# import pyradise.conversion as conv"
   ],
   "metadata": {
    "collapsed": false,
    "pycharm": {
     "name": "#%%\n"
    }
   }
  },
  {
   "cell_type": "code",
   "execution_count": null,
   "outputs": [],
   "source": [
    "class DicomToNiftiDatasetConverter:\n",
    "\n",
    "    def __init__(self, input_base_path: str, output_base_path: str) -> None:\n",
    "        super().__init__()\n",
    "\n",
    "        self.input_base_path = input_base_path\n",
    "\n",
    "        if not os.path.exists(output_base_path):\n",
    "            raise NotADirectoryError('The output base path is not existing!')\n",
    "        if not os.path.isdir(output_base_path):\n",
    "            raise NotADirectoryError('The output base path is not a directory!')\n",
    "\n",
    "        self.output_base_path = output_base_path\n",
    "\n",
    "    def execute(self):\n",
    "        pass"
   ],
   "metadata": {
    "collapsed": false,
    "pycharm": {
     "name": "#%%\n"
    }
   }
  }
 ],
 "metadata": {
  "kernelspec": {
   "display_name": "Python 3",
   "language": "python",
   "name": "python3"
  },
  "language_info": {
   "codemirror_mode": {
    "name": "ipython",
    "version": 2
   },
   "file_extension": ".py",
   "mimetype": "text/x-python",
   "name": "python",
   "nbconvert_exporter": "python",
   "pygments_lexer": "ipython2",
   "version": "2.7.6"
  }
 },
 "nbformat": 4,
 "nbformat_minor": 0
}